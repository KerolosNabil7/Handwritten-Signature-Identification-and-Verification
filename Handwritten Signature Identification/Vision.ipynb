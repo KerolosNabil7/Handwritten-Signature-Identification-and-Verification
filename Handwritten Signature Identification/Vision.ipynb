{
  "cells": [
    {
      "cell_type": "code",
      "execution_count": 1,
      "metadata": {
        "id": "-i97TlX6qhi9",
        "colab": {
          "base_uri": "https://localhost:8080/"
        },
        "outputId": "883542f7-a2c8-44ae-f932-1f7c87f06db0"
      },
      "outputs": [
        {
          "output_type": "stream",
          "name": "stdout",
          "text": [
            "Looking in indexes: https://pypi.org/simple, https://us-python.pkg.dev/colab-wheels/public/simple/\n",
            "Collecting tflearn\n",
            "  Downloading tflearn-0.5.0.tar.gz (107 kB)\n",
            "\u001b[K     |████████████████████████████████| 107 kB 8.3 MB/s \n",
            "\u001b[?25hRequirement already satisfied: numpy in /usr/local/lib/python3.8/dist-packages (from tflearn) (1.21.6)\n",
            "Requirement already satisfied: six in /usr/local/lib/python3.8/dist-packages (from tflearn) (1.15.0)\n",
            "Requirement already satisfied: Pillow in /usr/local/lib/python3.8/dist-packages (from tflearn) (7.1.2)\n",
            "Building wheels for collected packages: tflearn\n",
            "  Building wheel for tflearn (setup.py) ... \u001b[?25l\u001b[?25hdone\n",
            "  Created wheel for tflearn: filename=tflearn-0.5.0-py3-none-any.whl size=127299 sha256=43e9af02e0f3aa29085bd859373cbd07cffd04c67d516907fbe765e83e59f5bb\n",
            "  Stored in directory: /root/.cache/pip/wheels/65/9b/15/cb1e6b279c14ed897530d15cfd7da8e3df8a947e593f5cfe59\n",
            "Successfully built tflearn\n",
            "Installing collected packages: tflearn\n",
            "Successfully installed tflearn-0.5.0\n"
          ]
        },
        {
          "output_type": "stream",
          "name": "stderr",
          "text": [
            "WARNING:tensorflow:From /usr/local/lib/python3.8/dist-packages/tensorflow/python/compat/v2_compat.py:107: disable_resource_variables (from tensorflow.python.ops.variable_scope) is deprecated and will be removed in a future version.\n",
            "Instructions for updating:\n",
            "non-resource variables are not supported in the long term\n"
          ]
        },
        {
          "output_type": "execute_result",
          "data": {
            "text/plain": [
              "('2.9.2', '1.21.6')"
            ]
          },
          "metadata": {},
          "execution_count": 1
        }
      ],
      "source": [
        "!pip install tflearn\n",
        "import os\n",
        "import cv2\n",
        "import time\n",
        "import random\n",
        "import numpy as np\n",
        "from random import shuffle\n",
        "\n",
        "import tensorflow as tf\n",
        "# from tensorflow.keras.applications.inception_v3 import preprocess_input\n",
        "\n",
        "import seaborn as sns\n",
        "import matplotlib.pyplot as plt\n",
        "import tflearn\n",
        "from tflearn.layers.conv import conv_2d, max_pool_2d\n",
        "from tflearn.layers.core import input_data, dropout, fully_connected\n",
        "from tflearn.layers.estimator import regression\n",
        "from tflearn.data_preprocessing import ImagePreprocessing\n",
        "from tflearn.data_augmentation import ImageAugmentation\n",
        "tf.__version__, np.__version__"
      ]
    },
    {
      "cell_type": "code",
      "source": [
        "from google.colab import drive\n",
        "drive.mount('/content/gdrive')"
      ],
      "metadata": {
        "id": "YGPUbtUnE6Kg",
        "colab": {
          "base_uri": "https://localhost:8080/"
        },
        "outputId": "7cf42c27-d640-4ec7-8fc3-ecc356d087d0"
      },
      "execution_count": 2,
      "outputs": [
        {
          "output_type": "stream",
          "name": "stdout",
          "text": [
            "Mounted at /content/gdrive\n"
          ]
        }
      ]
    },
    {
      "cell_type": "code",
      "source": [
        "!unzip \"/content/gdrive/MyDrive/Colab Notebooks/CV_2023_SC_Dataset.zip\"\n"
      ],
      "metadata": {
        "id": "LsEQH0QwE9Ay"
      },
      "execution_count": null,
      "outputs": []
    },
    {
      "cell_type": "code",
      "source": [
        "# Create folder\n"
      ],
      "metadata": {
        "id": "W198gp5TUdNe"
      },
      "execution_count": null,
      "outputs": []
    },
    {
      "cell_type": "code",
      "source": [
        "def create_label(image_name):\n",
        "  if image_name.__contains__('A'):\n",
        "      return np.array([1, 0, 0, 0, 0])\n",
        "  elif image_name.__contains__('B'):\n",
        "      return np.array([0, 1, 0, 0, 0])\n",
        "  elif image_name.__contains__('C'):\n",
        "      return np.array([0, 0, 1, 0, 0])\n",
        "  elif image_name.__contains__('D'):\n",
        "      return np.array([0, 0, 0, 1, 0])\n",
        "  elif image_name.__contains__('E'):\n",
        "      return np.array([0, 0, 0, 0, 1])"
      ],
      "metadata": {
        "id": "slTa_FFl9NGj"
      },
      "execution_count": 4,
      "outputs": []
    },
    {
      "cell_type": "code",
      "source": [
        "DataPath = \"/content/Data\"\n",
        "\n",
        "IMG_SIZE = 200\n",
        "\n",
        "def extractData(path):\n",
        "    train_images = []\n",
        "    test_images = []\n",
        "\n",
        "    Personsfolder = os.listdir(path)\n",
        "    for person in Personsfolder:\n",
        "        personPath = os.path.join(path, person)\n",
        "        train_testOfPerson = os.listdir(personPath)\n",
        "\n",
        "        if train_testOfPerson[1] == 'Train':\n",
        "            trainPath = os.path.join(personPath, train_testOfPerson[1])\n",
        "            trainImgNames = os.listdir(trainPath)\n",
        "            for i in trainImgNames:\n",
        "                if 'SigVerificationTrainLabels' not in i:\n",
        "                    img = cv2.imread(os.path.join(trainPath, i), 0)\n",
        "                    img_data = cv2.resize(img, (IMG_SIZE, IMG_SIZE))\n",
        "                    img_normalized = img_data / 255.0\n",
        "\n",
        "                    train_images.append([np.array(img_normalized), create_label(i)])\n",
        "\n",
        "        if train_testOfPerson[0] == 'Test':\n",
        "            testPath = os.path.join(personPath, train_testOfPerson[0])\n",
        "            testImgNames = os.listdir(testPath)\n",
        "            for i in testImgNames:\n",
        "                if 'SigVerificationTestLabels' not in i:\n",
        "                    img = cv2.imread(os.path.join(testPath, i), 0)\n",
        "                    img_data = cv2.resize(img, (IMG_SIZE, IMG_SIZE))\n",
        "                    img_normalized = img_data / 255.0\n",
        "\n",
        "                    test_images.append([np.array(img_normalized), create_label(i)])\n",
        "    shuffle(train_images)\n",
        "    shuffle(test_images)\n",
        "    return train_images, test_images\n",
        "\n",
        "\n",
        "\n",
        "\n",
        "\n",
        "\n",
        "\n",
        "\n"
      ],
      "metadata": {
        "id": "45cU8-VtFAAL"
      },
      "execution_count": 5,
      "outputs": []
    },
    {
      "cell_type": "code",
      "source": [
        "train, test = extractData(DataPath)"
      ],
      "metadata": {
        "id": "fS46tx4Kt65E"
      },
      "execution_count": 6,
      "outputs": []
    },
    {
      "cell_type": "code",
      "source": [
        "# IMG_SIZE = 50\n",
        "X_train = np.array([i[0] for i in train]).reshape(-1, IMG_SIZE, IMG_SIZE, 1)\n",
        "y_train = np.array([i[1] for i in train])\n",
        "\n",
        "X_test = np.array([i[0] for i in test]).reshape(-1, IMG_SIZE, IMG_SIZE, 1)\n",
        "y_test = np.array([i[1] for i in test])\n"
      ],
      "metadata": {
        "id": "SMklkwH6t8NX"
      },
      "execution_count": 7,
      "outputs": []
    },
    {
      "cell_type": "code",
      "source": [
        "# IMG_SIZE = 50\n",
        "\n",
        "# Real-time data preprocessing\n",
        "img_prep = ImagePreprocessing()\n",
        "img_prep.add_featurewise_zero_center()\n",
        "img_prep.add_featurewise_stdnorm()\n",
        "\n",
        "# Real-time data augmentation\n",
        "img_aug = ImageAugmentation()\n",
        "img_aug.add_random_flip_leftright()\n",
        "img_aug.add_random_rotation(max_angle=25.)\n",
        "# Model structure\n",
        "\n",
        "network = input_data(shape=[None, IMG_SIZE, IMG_SIZE, 1],\n",
        "                     data_preprocessing=img_prep,\n",
        "                     data_augmentation=img_aug)\n",
        "network = conv_2d(network, 32, 3, activation='relu')\n",
        "network = max_pool_2d(network, 2)\n",
        "network = conv_2d(network, 64, 3, activation='relu')\n",
        "network = conv_2d(network, 64, 3, activation='relu')\n",
        "network = max_pool_2d(network, 2)\n",
        "network = fully_connected(network, 512, activation='relu')\n",
        "network = dropout(network, 0.5)\n",
        "network = fully_connected(network, 5, activation='softmax')\n",
        "network = regression(network, optimizer='adam', loss='categorical_crossentropy', learning_rate=0.001)\n",
        "\n",
        "model = tflearn.DNN(network, tensorboard_verbose=3)\n",
        "if (os.path.exists('model.tfl.meta')):\n",
        "  model.load('./model.tfl')\n",
        "else:\n",
        "  model.fit(X_train, y_train, n_epoch=10,show_metric=True, validation_set=0.2)\n",
        "  model.save('model.tfl')\n",
        "\n",
        "predictions = model.predict(X_test)\n"
      ],
      "metadata": {
        "id": "g8NKeetkPsGk",
        "colab": {
          "base_uri": "https://localhost:8080/"
        },
        "outputId": "45ed1e74-6ed0-414a-c52f-afc18d22e90b"
      },
      "execution_count": 8,
      "outputs": [
        {
          "output_type": "stream",
          "name": "stdout",
          "text": [
            "Training Step: 29  | total loss: \u001b[1m\u001b[32m0.20406\u001b[0m\u001b[0m | time: 27.644s\n",
            "| Adam | epoch: 010 | loss: 0.20406 - acc: 0.9121 -- iter: 128/160\n",
            "Training Step: 30  | total loss: \u001b[1m\u001b[32m0.21767\u001b[0m\u001b[0m | time: 44.200s\n",
            "| Adam | epoch: 010 | loss: 0.21767 - acc: 0.9181 | val_loss: 0.06057 - val_acc: 1.0000 -- iter: 160/160\n",
            "--\n"
          ]
        }
      ]
    },
    {
      "cell_type": "code",
      "source": [
        "predictions = model.predict(X_test)"
      ],
      "metadata": {
        "id": "wHmJ0HMjqN-r"
      },
      "execution_count": 9,
      "outputs": []
    },
    {
      "cell_type": "code",
      "source": [
        "print(predictions)"
      ],
      "metadata": {
        "id": "74N1n4clNaFj",
        "colab": {
          "base_uri": "https://localhost:8080/"
        },
        "outputId": "97fa1173-f966-48ed-e6a8-cf2aaa7f998c"
      },
      "execution_count": 10,
      "outputs": [
        {
          "output_type": "stream",
          "name": "stdout",
          "text": [
            "[[9.99871016e-01 1.51817803e-09 6.36135444e-19 6.01114417e-28\n",
            "  1.29118751e-04]\n",
            " [2.29773080e-12 3.13198604e-13 7.35429421e-16 9.99999940e-01\n",
            "  4.85789522e-21]\n",
            " [9.99999940e-01 1.32670472e-10 2.37760783e-18 1.46315098e-30\n",
            "  3.34546236e-12]\n",
            " [5.96583822e-21 1.44902204e-20 7.47538730e-22 9.99999940e-01\n",
            "  1.43249451e-29]\n",
            " [2.27255610e-11 1.80904649e-03 1.82121766e-12 1.99491329e-19\n",
            "  9.98190939e-01]\n",
            " [1.32710852e-07 9.99998391e-01 5.01666939e-08 8.49732350e-12\n",
            "  1.42773024e-06]\n",
            " [1.86628782e-10 2.11896733e-07 3.00689160e-21 4.92870470e-32\n",
            "  9.99999702e-01]\n",
            " [8.33997110e-14 5.42769172e-13 2.23665204e-17 9.99999940e-01\n",
            "  1.34828319e-22]\n",
            " [7.81349740e-19 5.53104507e-11 9.99999940e-01 1.04434289e-12\n",
            "  7.57307270e-19]\n",
            " [5.30418638e-14 1.13050856e-01 8.86949122e-01 2.65945333e-13\n",
            "  3.65953490e-10]\n",
            " [2.88538460e-22 8.96701741e-24 2.49995171e-22 9.99999940e-01\n",
            "  2.75210800e-30]\n",
            " [1.33223857e-16 1.02051324e-07 9.99999821e-01 6.84598829e-17\n",
            "  2.90760206e-16]\n",
            " [2.43681313e-07 1.55330461e-04 2.15565699e-27 9.25486562e-35\n",
            "  9.99844551e-01]\n",
            " [9.67301885e-15 7.98360311e-09 2.31673657e-24 2.03517772e-29\n",
            "  9.99999940e-01]\n",
            " [1.25416349e-19 6.02698230e-13 9.99999940e-01 6.25756115e-21\n",
            "  7.88880898e-22]\n",
            " [7.13382193e-14 8.13742673e-09 9.99995291e-01 4.70645409e-06\n",
            "  1.25901190e-14]\n",
            " [7.92573364e-13 9.99978721e-01 2.51206056e-09 2.23504493e-16\n",
            "  2.12453997e-05]\n",
            " [6.02815801e-12 9.99999821e-01 8.89321223e-13 9.50327530e-22\n",
            "  6.69825724e-08]\n",
            " [4.87935077e-19 3.02807506e-19 3.03033118e-17 9.99999940e-01\n",
            "  1.60994743e-27]\n",
            " [3.25542331e-08 9.99999940e-01 3.65393393e-12 1.45858041e-16\n",
            "  2.09345916e-10]\n",
            " [8.59065818e-10 4.67434511e-12 4.39745803e-28 1.16698495e-36\n",
            "  9.99999940e-01]\n",
            " [9.99999940e-01 5.40749889e-10 1.26722160e-13 9.14904109e-16\n",
            "  2.43855581e-13]\n",
            " [9.95179355e-01 1.30654324e-03 3.10979953e-12 2.24933287e-26\n",
            "  3.51405446e-03]\n",
            " [1.06917743e-17 1.89849081e-16 7.66082406e-11 9.99999940e-01\n",
            "  1.14829229e-21]\n",
            " [1.15458504e-04 9.99842167e-01 4.20759570e-05 4.53351278e-13\n",
            "  3.47091401e-07]\n",
            " [9.99952018e-01 1.05049584e-12 4.53857120e-24 7.81428971e-33\n",
            "  4.78901711e-05]\n",
            " [1.01633496e-07 2.29723314e-14 2.02204637e-28 3.96394503e-36\n",
            "  9.99999821e-01]\n",
            " [9.99999702e-01 9.75867336e-14 1.67020897e-26 9.41021707e-34\n",
            "  1.99475110e-07]\n",
            " [5.20375193e-13 4.51795495e-06 9.99995410e-01 3.61975063e-18\n",
            "  6.04117186e-16]\n",
            " [3.66537562e-23 1.57679236e-19 9.99999940e-01 3.65559918e-24\n",
            "  3.34756693e-28]\n",
            " [3.69071634e-10 9.98930037e-01 1.06995378e-03 5.22017829e-16\n",
            "  7.08859458e-13]\n",
            " [3.21248694e-10 9.99999106e-01 5.98952074e-15 8.19752533e-28\n",
            "  8.90941294e-07]\n",
            " [2.14082320e-26 2.25785370e-23 9.99999940e-01 6.37525981e-22\n",
            "  1.04071631e-30]\n",
            " [7.16096615e-19 1.01998225e-18 8.62848890e-11 9.99999940e-01\n",
            "  1.87736747e-24]\n",
            " [2.58958672e-18 1.78251800e-20 2.14634323e-18 9.99999940e-01\n",
            "  4.29218818e-26]\n",
            " [9.99999940e-01 9.78676955e-17 1.43025576e-29 9.36661973e-37\n",
            "  1.86182752e-16]\n",
            " [9.99999940e-01 2.80383383e-13 2.10403734e-23 2.48203902e-30\n",
            "  3.84661831e-08]\n",
            " [2.69721190e-10 2.38891426e-13 2.40210890e-29 3.66105950e-37\n",
            "  9.99999940e-01]\n",
            " [2.40823643e-15 9.32977567e-12 9.99999940e-01 8.12772159e-13\n",
            "  7.65036704e-19]\n",
            " [5.97705804e-13 2.13358997e-09 7.65277776e-22 7.76068952e-32\n",
            "  9.99999940e-01]]\n"
          ]
        }
      ]
    },
    {
      "cell_type": "code",
      "source": [
        "pred = []\n",
        "for prediction in predictions:\n",
        "    max_val = np.argmax(prediction)\n",
        "    pred.append(max_val)\n",
        "print((pred))\n",
        "\n",
        "act = []\n",
        "for prediction in y_test:\n",
        "    max_val = np.argmax(prediction)\n",
        "    act.append(max_val)\n",
        "print((act))"
      ],
      "metadata": {
        "colab": {
          "base_uri": "https://localhost:8080/"
        },
        "id": "ynMPfZmBNeo5",
        "outputId": "c5bb15c9-2dff-4d95-a903-01e885fec97e"
      },
      "execution_count": 11,
      "outputs": [
        {
          "output_type": "stream",
          "name": "stdout",
          "text": [
            "[0, 3, 0, 3, 4, 1, 4, 3, 2, 2, 3, 2, 4, 4, 2, 2, 1, 1, 3, 1, 4, 0, 0, 3, 1, 0, 4, 0, 2, 2, 1, 1, 2, 3, 3, 0, 0, 4, 2, 4]\n",
            "[0, 3, 0, 3, 4, 1, 4, 3, 2, 1, 3, 2, 4, 4, 2, 2, 1, 1, 3, 1, 4, 0, 0, 3, 1, 0, 4, 0, 2, 2, 1, 1, 2, 3, 3, 0, 0, 4, 2, 4]\n"
          ]
        }
      ]
    },
    {
      "cell_type": "code",
      "source": [
        "c = 0\n",
        "for i in range(len(pred)):\n",
        "  if pred[i] == act[i]:\n",
        "    c += 1\n",
        "print(\"Test acc = \" + str((c/len(pred)*100)) +\"%\")"
      ],
      "metadata": {
        "colab": {
          "base_uri": "https://localhost:8080/"
        },
        "id": "raLMFg-7Ojro",
        "outputId": "9b968c17-44d8-4bda-c805-e817b5e76e82"
      },
      "execution_count": 12,
      "outputs": [
        {
          "output_type": "stream",
          "name": "stdout",
          "text": [
            "Test acc = 97.5%\n"
          ]
        }
      ]
    },
    {
      "cell_type": "code",
      "source": [],
      "metadata": {
        "id": "XB5JI7yCP5og"
      },
      "execution_count": null,
      "outputs": []
    }
  ],
  "metadata": {
    "colab": {
      "provenance": []
    },
    "kernelspec": {
      "display_name": "Python 3",
      "name": "python3"
    },
    "language_info": {
      "name": "python"
    }
  },
  "nbformat": 4,
  "nbformat_minor": 0
}